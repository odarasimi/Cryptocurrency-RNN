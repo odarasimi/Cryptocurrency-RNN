{
  "nbformat": 4,
  "nbformat_minor": 0,
  "metadata": {
    "colab": {
      "name": "Cryptocurrency RNN.ipynb",
      "provenance": [],
      "collapsed_sections": [],
      "authorship_tag": "ABX9TyOu7znWTDuZcxFVuicjKpX5",
      "include_colab_link": true
    },
    "kernelspec": {
      "name": "python3",
      "display_name": "Python 3"
    }
  },
  "cells": [
    {
      "cell_type": "markdown",
      "metadata": {
        "id": "view-in-github",
        "colab_type": "text"
      },
      "source": [
        "<a href=\"https://colab.research.google.com/github/odarasimi/Cryptocurrency-RNN/blob/master/Cryptocurrency_RNN.ipynb\" target=\"_parent\"><img src=\"https://colab.research.google.com/assets/colab-badge.svg\" alt=\"Open In Colab\"/></a>"
      ]
    },
    {
      "cell_type": "code",
      "metadata": {
        "id": "aIoE4JtC7cYp",
        "colab_type": "code",
        "colab": {}
      },
      "source": [
        "import tensorflow as tf\n",
        "import numpy as np\n",
        "from tensorflow import keras\n",
        "import matplotlib.pyplot as plt\n",
        "import pandas as pd\n",
        "import io\n",
        "from sklearn import preprocessing\n",
        "from collections import deque\n",
        "import random\n",
        "from keras.models import Sequential\n",
        "from keras.layers import Conv2D\n",
        "from keras.layers import Dense, Dropout, LSTM\n",
        "from keras.layers import MaxPooling2D\n"
      ],
      "execution_count": 2,
      "outputs": []
    },
    {
      "cell_type": "code",
      "metadata": {
        "id": "Jvwip0hB5JlS",
        "colab_type": "code",
        "colab": {}
      },
      "source": [
        "from google.colab import files\n",
        "bch_usd = files.upload()"
      ],
      "execution_count": null,
      "outputs": []
    },
    {
      "cell_type": "code",
      "metadata": {
        "colab_type": "code",
        "id": "dx9s06j86j2I",
        "colab": {}
      },
      "source": [
        "from google.colab import files\n",
        "btc_usd = files.upload()"
      ],
      "execution_count": null,
      "outputs": []
    },
    {
      "cell_type": "code",
      "metadata": {
        "colab_type": "code",
        "id": "su6C3oZU6kI6",
        "colab": {}
      },
      "source": [
        "from google.colab import files\n",
        "eth_usd = files.upload()"
      ],
      "execution_count": null,
      "outputs": []
    },
    {
      "cell_type": "code",
      "metadata": {
        "colab_type": "code",
        "id": "LwW8t77Y6klv",
        "colab": {}
      },
      "source": [
        "from google.colab import files\n",
        "ltc_usd = files.upload()"
      ],
      "execution_count": null,
      "outputs": []
    },
    {
      "cell_type": "code",
      "metadata": {
        "colab_type": "code",
        "id": "eZakNRT06mgs",
        "colab": {}
      },
      "source": [
        "df_BCH = pd.read_csv(io.BytesIO(bch_usd[\"BCH-USD.csv\"]), names=[\"time\", \"low\", \"high\", \"open\", \"close\", \"volume\"]) \n",
        "df_BCH.set_index(\"time\", inplace=True)\n",
        "df_BTC = pd.read_csv(io.BytesIO(btc_usd[\"BTC-USD.csv\"]), names=[\"time\", \"low\", \"high\", \"open\", \"close\", \"volume\"])\n",
        "df_BTC.set_index(\"time\", inplace=True)\n",
        "df_ETH = pd.read_csv(io.BytesIO(eth_usd[\"ETH-USD.csv\"]), names=[\"time\", \"low\", \"high\", \"open\", \"close\", \"volume\"]) \n",
        "df_ETH.set_index(\"time\", inplace=True)\n",
        "df_LTC= pd.read_csv(io.BytesIO(ltc_usd[\"LTC-USD.csv\"]), names=[\"time\", \"low\", \"high\", \"open\", \"close\", \"volume\"])\n",
        "df_LTC.set_index(\"time\", inplace=True)"
      ],
      "execution_count": 8,
      "outputs": []
    },
    {
      "cell_type": "code",
      "metadata": {
        "id": "JQEFtmXq9UUf",
        "colab_type": "code",
        "colab": {
          "base_uri": "https://localhost:8080/",
          "height": 235
        },
        "outputId": "b0879a41-944d-4140-bade-3c26935537bc"
      },
      "source": [
        "df_BCH.head()"
      ],
      "execution_count": 9,
      "outputs": [
        {
          "output_type": "execute_result",
          "data": {
            "text/html": [
              "<div>\n",
              "<style scoped>\n",
              "    .dataframe tbody tr th:only-of-type {\n",
              "        vertical-align: middle;\n",
              "    }\n",
              "\n",
              "    .dataframe tbody tr th {\n",
              "        vertical-align: top;\n",
              "    }\n",
              "\n",
              "    .dataframe thead th {\n",
              "        text-align: right;\n",
              "    }\n",
              "</style>\n",
              "<table border=\"1\" class=\"dataframe\">\n",
              "  <thead>\n",
              "    <tr style=\"text-align: right;\">\n",
              "      <th></th>\n",
              "      <th>low</th>\n",
              "      <th>high</th>\n",
              "      <th>open</th>\n",
              "      <th>close</th>\n",
              "      <th>volume</th>\n",
              "    </tr>\n",
              "    <tr>\n",
              "      <th>time</th>\n",
              "      <th></th>\n",
              "      <th></th>\n",
              "      <th></th>\n",
              "      <th></th>\n",
              "      <th></th>\n",
              "    </tr>\n",
              "  </thead>\n",
              "  <tbody>\n",
              "    <tr>\n",
              "      <th>1528968660</th>\n",
              "      <td>871.650024</td>\n",
              "      <td>871.729980</td>\n",
              "      <td>871.650024</td>\n",
              "      <td>871.719971</td>\n",
              "      <td>5.675361</td>\n",
              "    </tr>\n",
              "    <tr>\n",
              "      <th>1528968720</th>\n",
              "      <td>870.859985</td>\n",
              "      <td>871.719971</td>\n",
              "      <td>871.719971</td>\n",
              "      <td>870.859985</td>\n",
              "      <td>26.856577</td>\n",
              "    </tr>\n",
              "    <tr>\n",
              "      <th>1528968780</th>\n",
              "      <td>870.099976</td>\n",
              "      <td>871.090027</td>\n",
              "      <td>871.090027</td>\n",
              "      <td>870.099976</td>\n",
              "      <td>1.124300</td>\n",
              "    </tr>\n",
              "    <tr>\n",
              "      <th>1528968840</th>\n",
              "      <td>868.830017</td>\n",
              "      <td>870.950012</td>\n",
              "      <td>868.830017</td>\n",
              "      <td>870.789978</td>\n",
              "      <td>1.749862</td>\n",
              "    </tr>\n",
              "    <tr>\n",
              "      <th>1528968900</th>\n",
              "      <td>870.000000</td>\n",
              "      <td>870.000000</td>\n",
              "      <td>870.000000</td>\n",
              "      <td>870.000000</td>\n",
              "      <td>1.680500</td>\n",
              "    </tr>\n",
              "  </tbody>\n",
              "</table>\n",
              "</div>"
            ],
            "text/plain": [
              "                   low        high        open       close     volume\n",
              "time                                                                 \n",
              "1528968660  871.650024  871.729980  871.650024  871.719971   5.675361\n",
              "1528968720  870.859985  871.719971  871.719971  870.859985  26.856577\n",
              "1528968780  870.099976  871.090027  871.090027  870.099976   1.124300\n",
              "1528968840  868.830017  870.950012  868.830017  870.789978   1.749862\n",
              "1528968900  870.000000  870.000000  870.000000  870.000000   1.680500"
            ]
          },
          "metadata": {
            "tags": []
          },
          "execution_count": 9
        }
      ]
    },
    {
      "cell_type": "code",
      "metadata": {
        "id": "fvGvdb8u_pah",
        "colab_type": "code",
        "colab": {
          "base_uri": "https://localhost:8080/",
          "height": 235
        },
        "outputId": "ede7efee-3a23-4e78-b9d9-c0f8bdc69b36"
      },
      "source": [
        "new_df = pd.DataFrame()\n",
        "cryptos = [[df_BCH,\"df_BCH\"], [df_BTC,\"df_BTC\"], [df_ETH,\"df_ETH\"], [df_LTC,\"df_LTC\"]]\n",
        "for crypto in cryptos:\n",
        "  crypto[0].rename(columns={\"close\": f\"{crypto[1]}_close\", \"volume\": f\"{crypto[1]}_volume\"}, inplace=True)\n",
        "  df = crypto[0][[f\"{crypto[1]}_close\", f\"{crypto[1]}_volume\"]]\n",
        "\n",
        "  if len(new_df) == 0:\n",
        "    new_df = df\n",
        "  else:\n",
        "    new_df = new_df.join(df)\n",
        "new_df.head()"
      ],
      "execution_count": 10,
      "outputs": [
        {
          "output_type": "execute_result",
          "data": {
            "text/html": [
              "<div>\n",
              "<style scoped>\n",
              "    .dataframe tbody tr th:only-of-type {\n",
              "        vertical-align: middle;\n",
              "    }\n",
              "\n",
              "    .dataframe tbody tr th {\n",
              "        vertical-align: top;\n",
              "    }\n",
              "\n",
              "    .dataframe thead th {\n",
              "        text-align: right;\n",
              "    }\n",
              "</style>\n",
              "<table border=\"1\" class=\"dataframe\">\n",
              "  <thead>\n",
              "    <tr style=\"text-align: right;\">\n",
              "      <th></th>\n",
              "      <th>df_BCH_close</th>\n",
              "      <th>df_BCH_volume</th>\n",
              "      <th>df_BTC_close</th>\n",
              "      <th>df_BTC_volume</th>\n",
              "      <th>df_ETH_close</th>\n",
              "      <th>df_ETH_volume</th>\n",
              "      <th>df_LTC_close</th>\n",
              "      <th>df_LTC_volume</th>\n",
              "    </tr>\n",
              "    <tr>\n",
              "      <th>time</th>\n",
              "      <th></th>\n",
              "      <th></th>\n",
              "      <th></th>\n",
              "      <th></th>\n",
              "      <th></th>\n",
              "      <th></th>\n",
              "      <th></th>\n",
              "      <th></th>\n",
              "    </tr>\n",
              "  </thead>\n",
              "  <tbody>\n",
              "    <tr>\n",
              "      <th>1528968660</th>\n",
              "      <td>871.719971</td>\n",
              "      <td>5.675361</td>\n",
              "      <td>6489.549805</td>\n",
              "      <td>0.587100</td>\n",
              "      <td>NaN</td>\n",
              "      <td>NaN</td>\n",
              "      <td>96.580002</td>\n",
              "      <td>9.647200</td>\n",
              "    </tr>\n",
              "    <tr>\n",
              "      <th>1528968720</th>\n",
              "      <td>870.859985</td>\n",
              "      <td>26.856577</td>\n",
              "      <td>6487.379883</td>\n",
              "      <td>7.706374</td>\n",
              "      <td>486.01001</td>\n",
              "      <td>26.019083</td>\n",
              "      <td>96.660004</td>\n",
              "      <td>314.387024</td>\n",
              "    </tr>\n",
              "    <tr>\n",
              "      <th>1528968780</th>\n",
              "      <td>870.099976</td>\n",
              "      <td>1.124300</td>\n",
              "      <td>6479.410156</td>\n",
              "      <td>3.088252</td>\n",
              "      <td>486.00000</td>\n",
              "      <td>8.449400</td>\n",
              "      <td>96.570000</td>\n",
              "      <td>77.129799</td>\n",
              "    </tr>\n",
              "    <tr>\n",
              "      <th>1528968840</th>\n",
              "      <td>870.789978</td>\n",
              "      <td>1.749862</td>\n",
              "      <td>6479.410156</td>\n",
              "      <td>1.404100</td>\n",
              "      <td>485.75000</td>\n",
              "      <td>26.994646</td>\n",
              "      <td>96.500000</td>\n",
              "      <td>7.216067</td>\n",
              "    </tr>\n",
              "    <tr>\n",
              "      <th>1528968900</th>\n",
              "      <td>870.000000</td>\n",
              "      <td>1.680500</td>\n",
              "      <td>6479.979980</td>\n",
              "      <td>0.753000</td>\n",
              "      <td>486.00000</td>\n",
              "      <td>77.355759</td>\n",
              "      <td>96.389999</td>\n",
              "      <td>524.539978</td>\n",
              "    </tr>\n",
              "  </tbody>\n",
              "</table>\n",
              "</div>"
            ],
            "text/plain": [
              "            df_BCH_close  df_BCH_volume  ...  df_LTC_close  df_LTC_volume\n",
              "time                                     ...                             \n",
              "1528968660    871.719971       5.675361  ...     96.580002       9.647200\n",
              "1528968720    870.859985      26.856577  ...     96.660004     314.387024\n",
              "1528968780    870.099976       1.124300  ...     96.570000      77.129799\n",
              "1528968840    870.789978       1.749862  ...     96.500000       7.216067\n",
              "1528968900    870.000000       1.680500  ...     96.389999     524.539978\n",
              "\n",
              "[5 rows x 8 columns]"
            ]
          },
          "metadata": {
            "tags": []
          },
          "execution_count": 10
        }
      ]
    },
    {
      "cell_type": "code",
      "metadata": {
        "id": "CS0uZlhJEtEk",
        "colab_type": "code",
        "colab": {}
      },
      "source": [
        "new_df.fillna(method=\"ffill\", inplace=True)  # if there are any gaps in data, we use previously known values\n",
        "new_df.dropna(inplace=True)\n",
        "seq_len = 60\n",
        "future_predict = 3\n",
        "\n",
        "crypto_predict = \"df_LTC\""
      ],
      "execution_count": 11,
      "outputs": []
    },
    {
      "cell_type": "code",
      "metadata": {
        "id": "VLdlypPBNPTx",
        "colab_type": "code",
        "colab": {}
      },
      "source": [
        "def classify(current, future):\n",
        "    if float(future) > float(current):\n",
        "        return 1\n",
        "    else:\n",
        "        return 0"
      ],
      "execution_count": 12,
      "outputs": []
    },
    {
      "cell_type": "code",
      "metadata": {
        "id": "-VM7wCAQNQtg",
        "colab_type": "code",
        "colab": {}
      },
      "source": [
        "new_df['future'] = new_df[f'{crypto_predict}_close'].shift(-future_predict)\n",
        "new_df['target'] = list(map(classify, new_df[f'{crypto_predict}_close'], new_df['future']))\n"
      ],
      "execution_count": 13,
      "outputs": []
    },
    {
      "cell_type": "code",
      "metadata": {
        "id": "ZbUgFc73NulO",
        "colab_type": "code",
        "colab": {
          "base_uri": "https://localhost:8080/",
          "height": 235
        },
        "outputId": "3b9c35ce-374c-45d5-ab29-62527f5b5967"
      },
      "source": [
        "new_df.head()"
      ],
      "execution_count": 14,
      "outputs": [
        {
          "output_type": "execute_result",
          "data": {
            "text/html": [
              "<div>\n",
              "<style scoped>\n",
              "    .dataframe tbody tr th:only-of-type {\n",
              "        vertical-align: middle;\n",
              "    }\n",
              "\n",
              "    .dataframe tbody tr th {\n",
              "        vertical-align: top;\n",
              "    }\n",
              "\n",
              "    .dataframe thead th {\n",
              "        text-align: right;\n",
              "    }\n",
              "</style>\n",
              "<table border=\"1\" class=\"dataframe\">\n",
              "  <thead>\n",
              "    <tr style=\"text-align: right;\">\n",
              "      <th></th>\n",
              "      <th>df_BCH_close</th>\n",
              "      <th>df_BCH_volume</th>\n",
              "      <th>df_BTC_close</th>\n",
              "      <th>df_BTC_volume</th>\n",
              "      <th>df_ETH_close</th>\n",
              "      <th>df_ETH_volume</th>\n",
              "      <th>df_LTC_close</th>\n",
              "      <th>df_LTC_volume</th>\n",
              "      <th>future</th>\n",
              "      <th>target</th>\n",
              "    </tr>\n",
              "    <tr>\n",
              "      <th>time</th>\n",
              "      <th></th>\n",
              "      <th></th>\n",
              "      <th></th>\n",
              "      <th></th>\n",
              "      <th></th>\n",
              "      <th></th>\n",
              "      <th></th>\n",
              "      <th></th>\n",
              "      <th></th>\n",
              "      <th></th>\n",
              "    </tr>\n",
              "  </thead>\n",
              "  <tbody>\n",
              "    <tr>\n",
              "      <th>1528968720</th>\n",
              "      <td>870.859985</td>\n",
              "      <td>26.856577</td>\n",
              "      <td>6487.379883</td>\n",
              "      <td>7.706374</td>\n",
              "      <td>486.01001</td>\n",
              "      <td>26.019083</td>\n",
              "      <td>96.660004</td>\n",
              "      <td>314.387024</td>\n",
              "      <td>96.389999</td>\n",
              "      <td>0</td>\n",
              "    </tr>\n",
              "    <tr>\n",
              "      <th>1528968780</th>\n",
              "      <td>870.099976</td>\n",
              "      <td>1.124300</td>\n",
              "      <td>6479.410156</td>\n",
              "      <td>3.088252</td>\n",
              "      <td>486.00000</td>\n",
              "      <td>8.449400</td>\n",
              "      <td>96.570000</td>\n",
              "      <td>77.129799</td>\n",
              "      <td>96.519997</td>\n",
              "      <td>0</td>\n",
              "    </tr>\n",
              "    <tr>\n",
              "      <th>1528968840</th>\n",
              "      <td>870.789978</td>\n",
              "      <td>1.749862</td>\n",
              "      <td>6479.410156</td>\n",
              "      <td>1.404100</td>\n",
              "      <td>485.75000</td>\n",
              "      <td>26.994646</td>\n",
              "      <td>96.500000</td>\n",
              "      <td>7.216067</td>\n",
              "      <td>96.440002</td>\n",
              "      <td>0</td>\n",
              "    </tr>\n",
              "    <tr>\n",
              "      <th>1528968900</th>\n",
              "      <td>870.000000</td>\n",
              "      <td>1.680500</td>\n",
              "      <td>6479.979980</td>\n",
              "      <td>0.753000</td>\n",
              "      <td>486.00000</td>\n",
              "      <td>77.355759</td>\n",
              "      <td>96.389999</td>\n",
              "      <td>524.539978</td>\n",
              "      <td>96.470001</td>\n",
              "      <td>1</td>\n",
              "    </tr>\n",
              "    <tr>\n",
              "      <th>1528968960</th>\n",
              "      <td>869.989990</td>\n",
              "      <td>1.669014</td>\n",
              "      <td>6480.000000</td>\n",
              "      <td>1.490900</td>\n",
              "      <td>486.00000</td>\n",
              "      <td>7.503300</td>\n",
              "      <td>96.519997</td>\n",
              "      <td>16.991997</td>\n",
              "      <td>96.400002</td>\n",
              "      <td>0</td>\n",
              "    </tr>\n",
              "  </tbody>\n",
              "</table>\n",
              "</div>"
            ],
            "text/plain": [
              "            df_BCH_close  df_BCH_volume  ...     future  target\n",
              "time                                     ...                   \n",
              "1528968720    870.859985      26.856577  ...  96.389999       0\n",
              "1528968780    870.099976       1.124300  ...  96.519997       0\n",
              "1528968840    870.789978       1.749862  ...  96.440002       0\n",
              "1528968900    870.000000       1.680500  ...  96.470001       1\n",
              "1528968960    869.989990       1.669014  ...  96.400002       0\n",
              "\n",
              "[5 rows x 10 columns]"
            ]
          },
          "metadata": {
            "tags": []
          },
          "execution_count": 14
        }
      ]
    },
    {
      "cell_type": "code",
      "metadata": {
        "id": "z6o5zslHizhC",
        "colab_type": "code",
        "colab": {}
      },
      "source": [
        "times = sorted(new_df.index.values)\n",
        "last_5pct = times[-int(0.05*len(times))]\n",
        "\n",
        "validation_df = new_df[(new_df.index >= last_5pct)]\n",
        "new_df = new_df[(new_df.index < last_5pct)]"
      ],
      "execution_count": 15,
      "outputs": []
    },
    {
      "cell_type": "code",
      "metadata": {
        "id": "47pCEtr03UcN",
        "colab_type": "code",
        "colab": {}
      },
      "source": [
        "def preprocess(df):\n",
        "  df = df.drop(\"future\", 1)\n",
        "  for col in df.columns:\n",
        "    if col != \"target\":\n",
        "      df[col] = df[col].pct_change()\n",
        "      df.dropna(inplace = True)\n",
        "      df[col] = preprocessing.scale(df[col].values)\n",
        "\n",
        "  df.dropna(inplace=True)\n",
        "  sequential_data = []\n",
        "  prev_days = deque(maxlen=seq_len)\n",
        "  for i in df.values:\n",
        "    prev_days.append([n for n in i[:-1]])\n",
        "    if len(prev_days) == seq_len:\n",
        "      sequential_data.append([np.array(prev_days), i[-1]])\n",
        "\n",
        "  buys = []\n",
        "  sells = []\n",
        "\n",
        "  for seq, target in sequential_data:\n",
        "    if target == 0:\n",
        "      sells.append([seq,target])\n",
        "    else:\n",
        "      buys.append([seq,target])\n",
        "\n",
        "  random.shuffle(buys)\n",
        "  random.shuffle(sells)\n",
        "\n",
        "  lower = min(len(buys), len(sells))\n",
        "  buys = buys[:lower]\n",
        "  sells = sells[:lower]\n",
        "\n",
        "  sequential_data = buys + sells\n",
        "  random.shuffle(sequential_data)\n",
        "\n",
        "  X = []\n",
        "  y = []\n",
        "  for seq, target in sequential_data:\n",
        "    X.append(seq)\n",
        "    y.append(target)\n",
        "\n",
        "  return np.array(X), y\n",
        "\n",
        "\n",
        "\n",
        "  "
      ],
      "execution_count": 16,
      "outputs": []
    },
    {
      "cell_type": "markdown",
      "metadata": {
        "id": "qYOda3aNHeHp",
        "colab_type": "text"
      },
      "source": [
        "**Test the preprocess function**"
      ]
    },
    {
      "cell_type": "code",
      "metadata": {
        "id": "_i-W0dAE8mtM",
        "colab_type": "code",
        "colab": {
          "base_uri": "https://localhost:8080/",
          "height": 34
        },
        "outputId": "c6aaee19-96f8-4e23-8d63-f12424c6c45e"
      },
      "source": [
        "X_train, y_train = preprocess(new_df)\n",
        "X_test, y_test = preprocess(validation_df)\n",
        "X_train = np.asarray(X_train)\n",
        "X_test = np.asarray(X_test)\n",
        "y_train = np.asarray(y_train)\n",
        "y_test = np.asarray(y_test)\n",
        "\n",
        "print(f\"train data: {len(X_train)}\")\n",
        "  "
      ],
      "execution_count": 17,
      "outputs": [
        {
          "output_type": "stream",
          "text": [
            "train data: 75008\n"
          ],
          "name": "stdout"
        }
      ]
    },
    {
      "cell_type": "markdown",
      "metadata": {
        "id": "tHJ47r6sHind",
        "colab_type": "text"
      },
      "source": [
        "**Begin training of neural network**"
      ]
    },
    {
      "cell_type": "code",
      "metadata": {
        "id": "IPCh5khMDJF8",
        "colab_type": "code",
        "colab": {}
      },
      "source": [
        "model = Sequential()\n",
        "\n",
        "model.add(LSTM(128, input_shape=(X_train.shape[1:]), return_sequences=True))\n",
        "model.add(Dropout(0.2))\n",
        "\n",
        "model.add(LSTM(128, return_sequences=True))\n",
        "model.add(Dropout(0.1))\n",
        "\n",
        "model.add(LSTM(128))\n",
        "model.add(Dropout(0.2))\n",
        "\n",
        "model.add(Dense(32, activation='relu'))\n",
        "model.add(Dropout(0.2))\n",
        "\n",
        "model.add(Dense(2, activation='softmax'))"
      ],
      "execution_count": 19,
      "outputs": []
    },
    {
      "cell_type": "code",
      "metadata": {
        "id": "wkp3371E3dtn",
        "colab_type": "code",
        "colab": {
          "base_uri": "https://localhost:8080/",
          "height": 374
        },
        "outputId": "2702aad3-5cbc-4db0-b221-9b1ecf0d0065"
      },
      "source": [
        "#alt_opt = tf.keras.optimizers.Adam(lr=0.001, decay=1e-6)\n",
        "model.compile(loss = \"sparse_categorical_crossentropy\", optimizer = \"adam\", metrics = [\"accuracy\"])\n",
        "\n",
        "#tensorboard = TensorBoard(log_dir=\"logs/{}\".format(NAME))\n",
        "\n",
        "model.fit(X_train, y_train, batch_size = 50, epochs = 10)"
      ],
      "execution_count": 20,
      "outputs": [
        {
          "output_type": "stream",
          "text": [
            "Epoch 1/10\n",
            "1501/1501 [==============================] - 19s 13ms/step - loss: 0.6906 - accuracy: 0.5292\n",
            "Epoch 2/10\n",
            "1501/1501 [==============================] - 19s 13ms/step - loss: 0.6830 - accuracy: 0.5598\n",
            "Epoch 3/10\n",
            "1501/1501 [==============================] - 20s 13ms/step - loss: 0.6809 - accuracy: 0.5648\n",
            "Epoch 4/10\n",
            "1501/1501 [==============================] - 19s 13ms/step - loss: 0.6798 - accuracy: 0.5673\n",
            "Epoch 5/10\n",
            "1501/1501 [==============================] - 19s 13ms/step - loss: 0.6782 - accuracy: 0.5720\n",
            "Epoch 6/10\n",
            "1501/1501 [==============================] - 19s 13ms/step - loss: 0.6757 - accuracy: 0.5763\n",
            "Epoch 7/10\n",
            "1501/1501 [==============================] - 19s 13ms/step - loss: 0.6715 - accuracy: 0.5840\n",
            "Epoch 8/10\n",
            "1501/1501 [==============================] - 19s 13ms/step - loss: 0.6662 - accuracy: 0.5944\n",
            "Epoch 9/10\n",
            "1501/1501 [==============================] - 19s 13ms/step - loss: 0.6565 - accuracy: 0.6093\n",
            "Epoch 10/10\n",
            "1501/1501 [==============================] - 19s 13ms/step - loss: 0.6432 - accuracy: 0.6263\n"
          ],
          "name": "stdout"
        },
        {
          "output_type": "execute_result",
          "data": {
            "text/plain": [
              "<tensorflow.python.keras.callbacks.History at 0x7f67a10c3ac8>"
            ]
          },
          "metadata": {
            "tags": []
          },
          "execution_count": 20
        }
      ]
    },
    {
      "cell_type": "code",
      "metadata": {
        "id": "_uf9R-gj3OHO",
        "colab_type": "code",
        "colab": {}
      },
      "source": [
        ""
      ],
      "execution_count": null,
      "outputs": []
    }
  ]
}